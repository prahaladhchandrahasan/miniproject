{
  "nbformat": 4,
  "nbformat_minor": 0,
  "metadata": {
    "kernelspec": {
      "display_name": "Python 3",
      "language": "python",
      "name": "python3"
    },
    "language_info": {
      "codemirror_mode": {
        "name": "ipython",
        "version": 3
      },
      "file_extension": ".py",
      "mimetype": "text/x-python",
      "name": "python",
      "nbconvert_exporter": "python",
      "pygments_lexer": "ipython3",
      "version": "3.6.9"
    },
    "colab": {
      "name": "Activity_4_Creating_a_TensorFlow_Model_Using_Keras.ipynb",
      "provenance": []
    }
  },
  "cells": [
    {
      "cell_type": "markdown",
      "metadata": {
        "id": "Uo0qaLSuUsN8"
      },
      "source": [
        "# Activity 4: Creating a TensorFlow Model using Keras\n",
        "In this notebook we design and compile a deep learning model using Keras as an interface to TensorFlow. We will continue to modify this model in our next lessons and activities by experimenting with different optimization techniques. However, the essential components of the model are entirely designed in this notebook."
      ]
    },
    {
      "cell_type": "markdown",
      "metadata": {
        "id": "CINuRZ2eUsOI"
      },
      "source": [
        "## Building a Model"
      ]
    },
    {
      "cell_type": "code",
      "metadata": {
        "id": "18sFL490UsOL",
        "outputId": "8a5f9068-28ae-4d63-876e-d0baf868ce33",
        "colab": {
          "base_uri": "https://localhost:8080/",
          "height": 34
        }
      },
      "source": [
        "%autosave 5\n",
        "\n",
        "from keras.models import Sequential\n",
        "from keras.layers.recurrent import LSTM\n",
        "from keras.layers.core import Dense, Activation"
      ],
      "execution_count": null,
      "outputs": [
        {
          "output_type": "display_data",
          "data": {
            "application/javascript": [
              "IPython.notebook.set_autosave_interval(5000)"
            ]
          },
          "metadata": {
            "tags": []
          }
        },
        {
          "output_type": "stream",
          "text": [
            "Autosaving every 5 seconds\n"
          ],
          "name": "stdout"
        }
      ]
    },
    {
      "cell_type": "code",
      "metadata": {
        "eid": "0ccaa6",
        "id": "90P6fUr1UsOd"
      },
      "source": [
        "#  TASK:\n",
        "#  Define `period_length`\n",
        "#\n",
        "period_length = 7"
      ],
      "execution_count": null,
      "outputs": []
    },
    {
      "cell_type": "code",
      "metadata": {
        "eid": "90e207",
        "id": "GzYP7TtkUsOm"
      },
      "source": [
        "#  TASK:\n",
        "#  Define `number_of_periods`\n",
        "#\n",
        "number_of_periods = 75"
      ],
      "execution_count": null,
      "outputs": []
    },
    {
      "cell_type": "code",
      "metadata": {
        "id": "In34GZy7UsOt"
      },
      "source": [
        "def build_model(period_length, number_of_periods, batch_size=1):\n",
        "    \"\"\"Build an LSTM model using Keras.\n",
        "\n",
        "    Parameters\n",
        "    ----------\n",
        "    period_length: int\n",
        "        The size of each observation used as input.\n",
        "\n",
        "    number_of_periods: int\n",
        "        The number of periods available in the\n",
        "        dataset.\n",
        "\n",
        "    batch_size: int\n",
        "        The size of the batch used in each training\n",
        "        period.\n",
        "\n",
        "    Returns\n",
        "    -------\n",
        "    model: Keras model\n",
        "        Compiled Keras model that can be trained\n",
        "        and stored in disk.\n",
        "    \"\"\"\n",
        "    model = Sequential()\n",
        "    model.add(LSTM(\n",
        "        units=period_length,\n",
        "        batch_input_shape=(batch_size, number_of_periods, period_length),\n",
        "        input_shape=(number_of_periods, period_length),\n",
        "        return_sequences=False, stateful=False))\n",
        "\n",
        "    model.add(Dense(units=period_length))\n",
        "    model.add(Activation(\"linear\"))\n",
        "\n",
        "    model.compile(loss=\"mse\", optimizer=\"rmsprop\")\n",
        "\n",
        "    return model"
      ],
      "execution_count": null,
      "outputs": []
    },
    {
      "cell_type": "markdown",
      "metadata": {
        "id": "aTLsua9pUsO0"
      },
      "source": [
        "The steps above compile the LSTM model as TensorFlow computation graph. We can now train that model using our train and evaluate its results with our test set."
      ]
    },
    {
      "cell_type": "markdown",
      "metadata": {
        "id": "TBpsqTF1UsO1"
      },
      "source": [
        "## Saving Model"
      ]
    },
    {
      "cell_type": "code",
      "metadata": {
        "id": "nOiRvDAqUsO1"
      },
      "source": [
        "model = build_model(period_length=period_length, number_of_periods=number_of_periods)"
      ],
      "execution_count": null,
      "outputs": []
    },
    {
      "cell_type": "code",
      "metadata": {
        "id": "PNdeAtacUsO8"
      },
      "source": [
        "model.save('bitcoin_lstm_v0.h5')"
      ],
      "execution_count": null,
      "outputs": []
    },
    {
      "cell_type": "code",
      "metadata": {
        "id": "Lc5p2Fu8VHIF",
        "outputId": "46200f74-0c67-4f46-9720-098f9567cce7",
        "colab": {
          "base_uri": "https://localhost:8080/"
        }
      },
      "source": [
        "from google.colab import drive\n",
        "drive.mount('/content/drive')"
      ],
      "execution_count": null,
      "outputs": [
        {
          "output_type": "stream",
          "text": [
            "Mounted at /content/drive\n"
          ],
          "name": "stdout"
        }
      ]
    },
    {
      "cell_type": "code",
      "metadata": {
        "id": "JHKaAmAPVU0_",
        "outputId": "091a6b4d-60dc-4fc1-f48c-a35fd0fbb026",
        "colab": {
          "base_uri": "https://localhost:8080/"
        }
      },
      "source": [
        "\n",
        "\n",
        "!pip install -U -q PyDrive\n",
        "from pydrive.auth import GoogleAuth\n",
        "from pydrive.drive import GoogleDrive\n",
        "from google.colab import auth\n",
        "from oauth2client.client import GoogleCredentials\n",
        "\n",
        "# 1. Authenticate and create the PyDrive client.\n",
        "auth.authenticate_user()\n",
        "gauth = GoogleAuth()\n",
        "gauth.credentials = GoogleCredentials.get_application_default()\n",
        "drive = GoogleDrive(gauth)\n",
        "\n",
        "# 2. Save Keras Model or weights on google drive\n",
        "\n",
        "# create on Colab directory\n",
        "model.save('bitcoin_lstm_v0.h5')    \n",
        "model_file = drive.CreateFile({'title' : 'bitcoin_lstm_v0.h5'})\n",
        "model_file.SetContentFile('bitcoin_lstm_v0.h5')\n",
        "model_file.Upload()\n",
        "\n",
        "# download to google drive\n",
        "drive.CreateFile({'id': model_file.get('id')})\n",
        "\n"
      ],
      "execution_count": null,
      "outputs": [
        {
          "output_type": "execute_result",
          "data": {
            "text/plain": [
              "GoogleDriveFile({'id': '1T9U5nLbf1DRfspM0vs4P1UCASHDansWo'})"
            ]
          },
          "metadata": {
            "tags": []
          },
          "execution_count": 9
        }
      ]
    },
    {
      "cell_type": "code",
      "metadata": {
        "id": "5OdwVeuVVj62"
      },
      "source": [
        ""
      ],
      "execution_count": null,
      "outputs": []
    }
  ]
}